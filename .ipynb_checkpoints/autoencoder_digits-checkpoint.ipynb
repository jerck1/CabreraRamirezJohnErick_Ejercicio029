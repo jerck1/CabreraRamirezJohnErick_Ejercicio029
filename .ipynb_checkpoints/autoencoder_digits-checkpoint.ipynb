{
 "cells": [
  {
   "cell_type": "code",
   "execution_count": 1,
   "metadata": {},
   "outputs": [],
   "source": [
    "import numpy as np\n",
    "import matplotlib.pyplot as plt\n",
    "import torch\n",
    "import torchvision\n",
    "import torchvision.datasets\n",
    "import torchvision.models\n",
    "import torchvision.transforms"
   ]
  },
  {
   "cell_type": "code",
   "execution_count": 13,
   "metadata": {},
   "outputs": [],
   "source": [
    "import sklearn.datasets"
   ]
  },
  {
   "cell_type": "code",
   "execution_count": 44,
   "metadata": {},
   "outputs": [
    {
     "name": "stdout",
     "output_type": "stream",
     "text": [
      "(1797, 64) (1797,)\n",
      "[0 1 2 3 4 5 6 7 8 9]\n"
     ]
    }
   ],
   "source": [
    "numeros = sklearn.datasets.load_digits()\n",
    "imagenes = numeros['images']  # Hay 1797 digitos representados en imagenes 8x8\n",
    "n_imagenes = len(imagenes)\n",
    "X = imagenes.reshape((n_imagenes, -1)) # para volver a tener los datos como imagen basta hacer data.reshape((n_imagenes, 8, 8))\n",
    "#X=imagenes\n",
    "Y = numeros['target']\n",
    "print(np.shape(X), np.shape(Y))\n",
    "print(Y[:10])"
   ]
  },
  {
   "cell_type": "code",
   "execution_count": 45,
   "metadata": {},
   "outputs": [],
   "source": [
    "X_train, X_test, Y_train, Y_test = sklearn.model_selection.train_test_split(X, Y, test_size=0.5)"
   ]
  },
  {
   "cell_type": "code",
   "execution_count": 63,
   "metadata": {},
   "outputs": [],
   "source": [
    "scaler = sklearn.preprocessing.StandardScaler()\n",
    "X_train = scaler.fit_transform(X_train)\n",
    "X_test = (scaler.transform(X_test))\n",
    "#conversion to pytorch tensor and adding a 1 dimension with unsqueeze\n",
    "X_train_t = torch.from_numpy(X_train.reshape((len(X_train), 8, 8))).unsqueeze(1)\n",
    "X_test_t = torch.from_numpy(X_test.reshape((len(X_test), 8, 8))).unsqueeze(1)"
   ]
  },
  {
   "cell_type": "code",
   "execution_count": 67,
   "metadata": {},
   "outputs": [
    {
     "name": "stdout",
     "output_type": "stream",
     "text": [
      "torch.Size([1, 8, 8])\n",
      "torch.Size([898, 1, 8, 8])\n"
     ]
    }
   ],
   "source": [
    "print(np.shape(X_train_t[0]))\n",
    "print(X_train_t.size())"
   ]
  },
  {
   "cell_type": "code",
   "execution_count": 68,
   "metadata": {},
   "outputs": [
    {
     "name": "stdout",
     "output_type": "stream",
     "text": [
      "(898, 64)\n"
     ]
    },
    {
     "data": {
      "text/plain": [
       "<matplotlib.image.AxesImage at 0x7efcda3498d0>"
      ]
     },
     "execution_count": 68,
     "metadata": {},
     "output_type": "execute_result"
    },
    {
     "data": {
      "image/png": "[encoded data removed]",
      "text/plain": [
       "<Figure size 432x288 with 1 Axes>"
      ]
     },
     "metadata": {
      "needs_background": "light"
     },
     "output_type": "display_data"
    }
   ],
   "source": [
    "print(np.shape(X_train))\n",
    "plt.imshow(X_train.reshape((898, 8, 8))[0])"
   ]
  },
  {
   "cell_type": "code",
   "execution_count": 106,
   "metadata": {},
   "outputs": [
    {
     "name": "stdout",
     "output_type": "stream",
     "text": [
      "Autoencoder(\n",
      "  (encoder): Sequential(\n",
      "    (0): Conv2d(1, 15, kernel_size=(8, 8), stride=(1, 1))\n",
      "    (1): ReLU(inplace=True)\n",
      "    (2): Conv2d(15, 1, kernel_size=(1, 1), stride=(1, 1))\n",
      "    (3): ReLU(inplace=True)\n",
      "  )\n",
      "  (decoder): Sequential(\n",
      "    (0): ConvTranspose2d(1, 15, kernel_size=(1, 1), stride=(1, 1))\n",
      "    (1): ReLU(inplace=True)\n",
      "    (2): ConvTranspose2d(15, 1, kernel_size=(8, 8), stride=(1, 1))\n",
      "    (3): ReLU(inplace=True)\n",
      "  )\n",
      ")\n"
     ]
    }
   ],
   "source": [
    "# define el autoencoder\n",
    "class Autoencoder(torch.nn.Module):\n",
    "    def __init__(self):\n",
    "        super(Autoencoder,self).__init__()\n",
    "        #input1, out:15\n",
    "        self.encoder = torch.nn.Sequential(\n",
    "            torch.nn.Conv2d(1, 15, kernel_size=8, stride=1),\n",
    "            torch.nn.ReLU(True),\n",
    "            # out:15, out7\n",
    "            torch.nn.Conv2d(15,1,kernel_size=1),\n",
    "            torch.nn.ReLU(True))\n",
    "        self.decoder = torch.nn.Sequential(             \n",
    "            torch.nn.ConvTranspose2d(1,15,kernel_size=1),\n",
    "            torch.nn.ReLU(True),\n",
    "            torch.nn.ConvTranspose2d(15,1,kernel_size=8, stride=1),\n",
    "            torch.nn.ReLU(True))\n",
    "    def forward(self,x):\n",
    "        x = self.encoder(x)\n",
    "        x = self.decoder(x)\n",
    "        return x\n",
    "auto = Autoencoder()\n",
    "print(auto)"
   ]
  },
  {
   "cell_type": "code",
   "execution_count": 107,
   "metadata": {},
   "outputs": [],
   "source": [
    "# inicializa modelo, loss y optimizador\n",
    "num_epochs = 100\n",
    "model = Autoencoder()\n",
    "distance = torch.nn.MSELoss()\n",
    "optimizer = torch.optim.Adam(model.parameters(), lr=0.01, weight_decay=1E-3)"
   ]
  },
  {
   "cell_type": "code",
   "execution_count": 108,
   "metadata": {
    "scrolled": false
   },
   "outputs": [
    {
     "name": "stdout",
     "output_type": "stream",
     "text": [
      "epoch [1/100], loss:0.9496\n",
      "epoch [2/100], loss:0.9458\n",
      "epoch [3/100], loss:0.9428\n",
      "epoch [4/100], loss:0.9404\n",
      "epoch [5/100], loss:0.9386\n",
      "epoch [6/100], loss:0.9376\n",
      "epoch [7/100], loss:0.9369\n",
      "epoch [8/100], loss:0.9362\n",
      "epoch [9/100], loss:0.9355\n",
      "epoch [10/100], loss:0.9341\n",
      "epoch [11/100], loss:0.9322\n",
      "epoch [12/100], loss:0.9297\n",
      "epoch [13/100], loss:0.9269\n",
      "epoch [14/100], loss:0.9236\n",
      "epoch [15/100], loss:0.9199\n",
      "epoch [16/100], loss:0.9158\n",
      "epoch [17/100], loss:0.9115\n",
      "epoch [18/100], loss:0.9075\n",
      "epoch [19/100], loss:0.9046\n",
      "epoch [20/100], loss:0.9029\n",
      "epoch [21/100], loss:0.9022\n",
      "epoch [22/100], loss:0.9013\n",
      "epoch [23/100], loss:0.8995\n",
      "epoch [24/100], loss:0.8972\n",
      "epoch [25/100], loss:0.8953\n",
      "epoch [26/100], loss:0.8943\n",
      "epoch [27/100], loss:0.8940\n",
      "epoch [28/100], loss:0.8939\n",
      "epoch [29/100], loss:0.8935\n",
      "epoch [30/100], loss:0.8927\n",
      "epoch [31/100], loss:0.8919\n",
      "epoch [32/100], loss:0.8912\n",
      "epoch [33/100], loss:0.8907\n",
      "epoch [34/100], loss:0.8902\n",
      "epoch [35/100], loss:0.8896\n",
      "epoch [36/100], loss:0.8888\n",
      "epoch [37/100], loss:0.8878\n",
      "epoch [38/100], loss:0.8868\n",
      "epoch [39/100], loss:0.8857\n",
      "epoch [40/100], loss:0.8847\n",
      "epoch [41/100], loss:0.8836\n",
      "epoch [42/100], loss:0.8823\n",
      "epoch [43/100], loss:0.8809\n",
      "epoch [44/100], loss:0.8795\n",
      "epoch [45/100], loss:0.8782\n",
      "epoch [46/100], loss:0.8771\n",
      "epoch [47/100], loss:0.8759\n",
      "epoch [48/100], loss:0.8748\n",
      "epoch [49/100], loss:0.8736\n",
      "epoch [50/100], loss:0.8725\n",
      "epoch [51/100], loss:0.8716\n",
      "epoch [52/100], loss:0.8706\n",
      "epoch [53/100], loss:0.8693\n",
      "epoch [54/100], loss:0.8682\n",
      "epoch [55/100], loss:0.8671\n",
      "epoch [56/100], loss:0.8658\n",
      "epoch [57/100], loss:0.8645\n",
      "epoch [58/100], loss:0.8632\n",
      "epoch [59/100], loss:0.8619\n",
      "epoch [60/100], loss:0.8606\n",
      "epoch [61/100], loss:0.8594\n",
      "epoch [62/100], loss:0.8582\n",
      "epoch [63/100], loss:0.8570\n",
      "epoch [64/100], loss:0.8558\n",
      "epoch [65/100], loss:0.8546\n",
      "epoch [66/100], loss:0.8536\n",
      "epoch [67/100], loss:0.8525\n",
      "epoch [68/100], loss:0.8515\n",
      "epoch [69/100], loss:0.8505\n",
      "epoch [70/100], loss:0.8496\n",
      "epoch [71/100], loss:0.8486\n",
      "epoch [72/100], loss:0.8477\n",
      "epoch [73/100], loss:0.8467\n",
      "epoch [74/100], loss:0.8458\n",
      "epoch [75/100], loss:0.8449\n",
      "epoch [76/100], loss:0.8440\n",
      "epoch [77/100], loss:0.8430\n",
      "epoch [78/100], loss:0.8421\n",
      "epoch [79/100], loss:0.8412\n",
      "epoch [80/100], loss:0.8403\n",
      "epoch [81/100], loss:0.8394\n",
      "epoch [82/100], loss:0.8385\n",
      "epoch [83/100], loss:0.8376\n",
      "epoch [84/100], loss:0.8369\n",
      "epoch [85/100], loss:0.8361\n",
      "epoch [86/100], loss:0.8354\n",
      "epoch [87/100], loss:0.8347\n",
      "epoch [88/100], loss:0.8341\n",
      "epoch [89/100], loss:0.8336\n",
      "epoch [90/100], loss:0.8330\n",
      "epoch [91/100], loss:0.8323\n",
      "epoch [92/100], loss:0.8317\n",
      "epoch [93/100], loss:0.8310\n",
      "epoch [94/100], loss:0.8307\n",
      "epoch [95/100], loss:0.8302\n",
      "epoch [96/100], loss:0.8296\n",
      "epoch [97/100], loss:0.8292\n",
      "epoch [98/100], loss:0.8284\n",
      "epoch [99/100], loss:0.8280\n",
      "epoch [100/100], loss:0.8273\n"
     ]
    }
   ],
   "source": [
    "# entrenamiento\n",
    "for epoch in range(num_epochs):\n",
    "    output = model(X_train_t.float())\n",
    "    loss = distance(output, X_train_t.float())\n",
    "    optimizer.zero_grad()\n",
    "    loss.backward()\n",
    "    optimizer.step()\n",
    "    print('epoch [{}/{}], loss:{:.4f}'.format(epoch+1, num_epochs, loss.item()))"
   ]
  },
  {
   "cell_type": "code",
   "execution_count": 114,
   "metadata": {},
   "outputs": [
    {
     "name": "stdout",
     "output_type": "stream",
     "text": [
      "torch.Size([898, 1, 8, 8])\n",
      "torch.Size([898, 1, 1, 1])\n"
     ]
    }
   ],
   "source": [
    "x_transform = model(X_train_t.float())\n",
    "latent_space = model.encoder(X_train_t.float())\n",
    "print(x_transform.size())\n",
    "print(latent_space.size())"
   ]
  },
  {
   "cell_type": "code",
   "execution_count": 113,
   "metadata": {},
   "outputs": [
    {
     "ename": "IndexError",
     "evalue": "index 2 is out of bounds for dimension 0 with size 1",
     "output_type": "error",
     "traceback": [
      "\u001b[0;31m---------------------------------------------------------------------------\u001b[0m",
      "\u001b[0;31mIndexError\u001b[0m                                Traceback (most recent call last)",
      "\u001b[0;32m<ipython-input-113-899f72c14729>\u001b[0m in \u001b[0;36m<module>\u001b[0;34m\u001b[0m\n\u001b[1;32m     13\u001b[0m     \u001b[0mj\u001b[0m\u001b[0;34m=\u001b[0m\u001b[0;36m1\u001b[0m \u001b[0;31m# una de las capas de la representacion latente\u001b[0m\u001b[0;34m\u001b[0m\u001b[0;34m\u001b[0m\u001b[0m\n\u001b[1;32m     14\u001b[0m     \u001b[0mplt\u001b[0m\u001b[0;34m.\u001b[0m\u001b[0msubplot\u001b[0m\u001b[0;34m(\u001b[0m\u001b[0;36m5\u001b[0m\u001b[0;34m,\u001b[0m\u001b[0;36m5\u001b[0m\u001b[0;34m,\u001b[0m\u001b[0;34m(\u001b[0m\u001b[0mi\u001b[0m\u001b[0;34m+\u001b[0m\u001b[0;36m1\u001b[0m\u001b[0;34m)\u001b[0m\u001b[0;34m+\u001b[0m\u001b[0;36m5\u001b[0m\u001b[0;34m*\u001b[0m\u001b[0;34m(\u001b[0m\u001b[0mj\u001b[0m\u001b[0;34m+\u001b[0m\u001b[0;36m1\u001b[0m\u001b[0;34m)\u001b[0m\u001b[0;34m)\u001b[0m\u001b[0;34m\u001b[0m\u001b[0;34m\u001b[0m\u001b[0m\n\u001b[0;32m---> 15\u001b[0;31m     \u001b[0mplt\u001b[0m\u001b[0;34m.\u001b[0m\u001b[0mimshow\u001b[0m\u001b[0;34m(\u001b[0m\u001b[0mlatent_space\u001b[0m\u001b[0;34m[\u001b[0m\u001b[0mi\u001b[0m\u001b[0;34m+\u001b[0m\u001b[0moffset\u001b[0m\u001b[0;34m]\u001b[0m\u001b[0;34m[\u001b[0m\u001b[0;36m2\u001b[0m\u001b[0;34m]\u001b[0m\u001b[0;34m.\u001b[0m\u001b[0mdetach\u001b[0m\u001b[0;34m(\u001b[0m\u001b[0;34m)\u001b[0m\u001b[0;34m.\u001b[0m\u001b[0mnumpy\u001b[0m\u001b[0;34m(\u001b[0m\u001b[0;34m)\u001b[0m\u001b[0;34m)\u001b[0m\u001b[0;34m\u001b[0m\u001b[0;34m\u001b[0m\u001b[0m\n\u001b[0m",
      "\u001b[0;31mIndexError\u001b[0m: index 2 is out of bounds for dimension 0 with size 1"
     ]
    },
    {
     "data": {
      "image/png": "[encoded data removed]",
      "text/plain": [
       "<Figure size 1008x1008 with 3 Axes>"
      ]
     },
     "metadata": {
      "needs_background": "light"
     },
     "output_type": "display_data"
    }
   ],
   "source": [
    "# muestra los resultados de las cuatro capas de convolucion\n",
    "plt.figure(figsize=(14,14))\n",
    "offset = 16\n",
    "for i in range(5):\n",
    "    plt.subplot(5,5,i+1) #imagenes originales\n",
    "    plt.imshow(X_train_t[i+offset][0].detach().numpy())\n",
    "    #plt.title(train_loader.dataset.classes[train_loader.dataset.targets[i+offset]] )\n",
    "    \n",
    "    j=0 # las imagenes reconstruidas por el autoencoder\n",
    "    plt.subplot(5,5,(i+1)+5*(j+1))\n",
    "    plt.imshow(x_transform[i+offset][0].detach().numpy())\n",
    "    \n",
    "    j=1 # una de las capas de la representacion latente\n",
    "    plt.subplot(5,5,(i+1)+5*(j+1))\n",
    "    plt.imshow(latent_space[i+offset][2].detach().numpy())\n"
   ]
  },
  {
   "cell_type": "code",
   "execution_count": null,
   "metadata": {},
   "outputs": [],
   "source": []
  }
 ],
 "metadata": {
  "kernelspec": {
   "display_name": "Python 3",
   "language": "python",
   "name": "python3"
  },
  "language_info": {
   "codemirror_mode": {
    "name": "ipython",
    "version": 3
   },
   "file_extension": ".py",
   "mimetype": "text/x-python",
   "name": "python",
   "nbconvert_exporter": "python",
   "pygments_lexer": "ipython3",
   "version": "3.7.4"
  }
 },
 "nbformat": 4,
 "nbformat_minor": 2
}
