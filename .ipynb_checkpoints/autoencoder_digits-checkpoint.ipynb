{
 "cells": [
  {
   "cell_type": "code",
   "execution_count": 1,
   "metadata": {},
   "outputs": [],
   "source": [
    "import numpy as np\n",
    "import matplotlib.pyplot as plt\n",
    "import torch\n",
    "import torchvision\n",
    "import torchvision.datasets\n",
    "import torchvision.models\n",
    "import torchvision.transforms"
   ]
  },
  {
   "cell_type": "code",
   "execution_count": 2,
   "metadata": {},
   "outputs": [],
   "source": [
    "import sklearn.datasets\n",
    "import sklearn.model_selection"
   ]
  },
  {
   "cell_type": "code",
   "execution_count": 3,
   "metadata": {},
   "outputs": [
    {
     "name": "stdout",
     "output_type": "stream",
     "text": [
      "(1797, 64) (1797,)\n",
      "[0 1 2 3 4 5 6 7 8 9]\n"
     ]
    }
   ],
   "source": [
    "numeros = sklearn.datasets.load_digits()\n",
    "imagenes = numeros['images']  # Hay 1797 digitos representados en imagenes 8x8\n",
    "n_imagenes = len(imagenes)\n",
    "X = imagenes.reshape((n_imagenes, -1)) # para volver a tener los datos como imagen basta hacer data.reshape((n_imagenes, 8, 8))\n",
    "#X=imagenes\n",
    "Y = numeros['target']\n",
    "print(np.shape(X), np.shape(Y))\n",
    "print(Y[:10])"
   ]
  },
  {
   "cell_type": "code",
   "execution_count": 4,
   "metadata": {},
   "outputs": [],
   "source": [
    "X_train, X_test, Y_train, Y_test = sklearn.model_selection.train_test_split(X, Y, test_size=0.5)"
   ]
  },
  {
   "cell_type": "code",
   "execution_count": 5,
   "metadata": {},
   "outputs": [],
   "source": [
    "scaler = sklearn.preprocessing.StandardScaler()\n",
    "X_train = scaler.fit_transform(X_train)\n",
    "X_test = (scaler.transform(X_test))\n",
    "#conversion to pytorch tensor and adding a 1 dimension with unsqueeze\n",
    "X_train_t = torch.from_numpy(X_train.reshape((len(X_train), 8, 8))).unsqueeze(1)\n",
    "X_test_t = torch.from_numpy(X_test.reshape((len(X_test), 8, 8))).unsqueeze(1)"
   ]
  },
  {
   "cell_type": "code",
   "execution_count": 6,
   "metadata": {},
   "outputs": [
    {
     "name": "stdout",
     "output_type": "stream",
     "text": [
      "torch.Size([1, 8, 8])\n",
      "torch.Size([898, 1, 8, 8])\n"
     ]
    }
   ],
   "source": [
    "print(np.shape(X_train_t[0]))\n",
    "print(X_train_t.size())"
   ]
  },
  {
   "cell_type": "code",
   "execution_count": 7,
   "metadata": {},
   "outputs": [
    {
     "name": "stdout",
     "output_type": "stream",
     "text": [
      "(898, 64)\n"
     ]
    },
    {
     "data": {
      "text/plain": [
       "<matplotlib.image.AxesImage at 0x7f32b3254cd0>"
      ]
     },
     "execution_count": 7,
     "metadata": {},
     "output_type": "execute_result"
    },
    {
     "data": {
      "image/png": "[encoded data removed]",
      "text/plain": [
       "<Figure size 432x288 with 1 Axes>"
      ]
     },
     "metadata": {
      "needs_background": "light"
     },
     "output_type": "display_data"
    }
   ],
   "source": [
    "print(np.shape(X_train))\n",
    "plt.imshow(X_train.reshape((898, 8, 8))[0])"
   ]
  },
  {
   "cell_type": "code",
   "execution_count": 8,
   "metadata": {},
   "outputs": [
    {
     "name": "stdout",
     "output_type": "stream",
     "text": [
      "Autoencoder(\n",
      "  (encoder): Sequential(\n",
      "    (0): Conv2d(1, 15, kernel_size=(8, 8), stride=(1, 1))\n",
      "    (1): ReLU(inplace=True)\n",
      "    (2): Conv2d(15, 1, kernel_size=(4, 4), stride=(1, 1), padding=(5, 5))\n",
      "    (3): ReLU(inplace=True)\n",
      "  )\n",
      "  (decoder): Sequential(\n",
      "    (0): ConvTranspose2d(1, 15, kernel_size=(4, 4), stride=(1, 1), padding=(5, 5))\n",
      "    (1): ReLU(inplace=True)\n",
      "    (2): ConvTranspose2d(15, 1, kernel_size=(8, 8), stride=(1, 1))\n",
      "    (3): ReLU(inplace=True)\n",
      "  )\n",
      ")\n"
     ]
    }
   ],
   "source": [
    "# define el autoencoder\n",
    "class Autoencoder(torch.nn.Module):\n",
    "    def __init__(self):\n",
    "        super(Autoencoder,self).__init__()\n",
    "        #input1, out:15\n",
    "        self.encoder = torch.nn.Sequential(\n",
    "            torch.nn.Conv2d(1, 15, kernel_size=8, stride=1),\n",
    "            torch.nn.ReLU(True),\n",
    "            # out:15, out7\n",
    "            torch.nn.Conv2d(15,1,kernel_size=4, stride=1,padding=5),\n",
    "            torch.nn.ReLU(True))\n",
    "        self.decoder = torch.nn.Sequential(             \n",
    "            torch.nn.ConvTranspose2d(1,15,kernel_size=4,padding=5),\n",
    "            torch.nn.ReLU(True),\n",
    "            torch.nn.ConvTranspose2d(15,1,kernel_size=8, stride=1),\n",
    "            torch.nn.ReLU(True))\n",
    "    def forward(self,x):\n",
    "        x = self.encoder(x)\n",
    "        x = self.decoder(x)\n",
    "        return x\n",
    "auto = Autoencoder()\n",
    "print(auto)"
   ]
  },
  {
   "cell_type": "code",
   "execution_count": 9,
   "metadata": {},
   "outputs": [],
   "source": [
    "# inicializa modelo, loss y optimizador\n",
    "num_epochs = 100\n",
    "model = Autoencoder()\n",
    "distance = torch.nn.MSELoss()\n",
    "optimizer = torch.optim.Adam(model.parameters(), lr=0.01, weight_decay=1E-3)"
   ]
  },
  {
   "cell_type": "code",
   "execution_count": 10,
   "metadata": {
    "scrolled": false
   },
   "outputs": [
    {
     "name": "stdout",
     "output_type": "stream",
     "text": [
      "epoch [1/100], loss:0.9491\n",
      "epoch [2/100], loss:0.9464\n",
      "epoch [3/100], loss:0.9442\n",
      "epoch [4/100], loss:0.9422\n",
      "epoch [5/100], loss:0.9402\n",
      "epoch [6/100], loss:0.9380\n",
      "epoch [7/100], loss:0.9362\n",
      "epoch [8/100], loss:0.9347\n",
      "epoch [9/100], loss:0.9329\n",
      "epoch [10/100], loss:0.9307\n",
      "epoch [11/100], loss:0.9281\n",
      "epoch [12/100], loss:0.9242\n",
      "epoch [13/100], loss:0.9183\n",
      "epoch [14/100], loss:0.9103\n",
      "epoch [15/100], loss:0.9002\n",
      "epoch [16/100], loss:0.8892\n",
      "epoch [17/100], loss:0.8800\n",
      "epoch [18/100], loss:0.8744\n",
      "epoch [19/100], loss:0.8701\n",
      "epoch [20/100], loss:0.8616\n",
      "epoch [21/100], loss:0.8513\n",
      "epoch [22/100], loss:0.8427\n",
      "epoch [23/100], loss:0.8352\n",
      "epoch [24/100], loss:0.8277\n",
      "epoch [25/100], loss:0.8198\n",
      "epoch [26/100], loss:0.8112\n",
      "epoch [27/100], loss:0.8030\n",
      "epoch [28/100], loss:0.7968\n",
      "epoch [29/100], loss:0.7912\n",
      "epoch [30/100], loss:0.7841\n",
      "epoch [31/100], loss:0.7752\n",
      "epoch [32/100], loss:0.7670\n",
      "epoch [33/100], loss:0.7615\n",
      "epoch [34/100], loss:0.7573\n",
      "epoch [35/100], loss:0.7535\n",
      "epoch [36/100], loss:0.7498\n",
      "epoch [37/100], loss:0.7456\n",
      "epoch [38/100], loss:0.7416\n",
      "epoch [39/100], loss:0.7376\n",
      "epoch [40/100], loss:0.7341\n",
      "epoch [41/100], loss:0.7309\n",
      "epoch [42/100], loss:0.7279\n",
      "epoch [43/100], loss:0.7249\n",
      "epoch [44/100], loss:0.7221\n",
      "epoch [45/100], loss:0.7197\n",
      "epoch [46/100], loss:0.7173\n",
      "epoch [47/100], loss:0.7148\n",
      "epoch [48/100], loss:0.7122\n",
      "epoch [49/100], loss:0.7099\n",
      "epoch [50/100], loss:0.7078\n",
      "epoch [51/100], loss:0.7057\n",
      "epoch [52/100], loss:0.7035\n",
      "epoch [53/100], loss:0.7009\n",
      "epoch [54/100], loss:0.6984\n",
      "epoch [55/100], loss:0.6956\n",
      "epoch [56/100], loss:0.6933\n",
      "epoch [57/100], loss:0.6905\n",
      "epoch [58/100], loss:0.6877\n",
      "epoch [59/100], loss:0.6850\n",
      "epoch [60/100], loss:0.6825\n",
      "epoch [61/100], loss:0.6799\n",
      "epoch [62/100], loss:0.6775\n",
      "epoch [63/100], loss:0.6751\n",
      "epoch [64/100], loss:0.6728\n",
      "epoch [65/100], loss:0.6702\n",
      "epoch [66/100], loss:0.6680\n",
      "epoch [67/100], loss:0.6657\n",
      "epoch [68/100], loss:0.6636\n",
      "epoch [69/100], loss:0.6616\n",
      "epoch [70/100], loss:0.6599\n",
      "epoch [71/100], loss:0.6580\n",
      "epoch [72/100], loss:0.6561\n",
      "epoch [73/100], loss:0.6544\n",
      "epoch [74/100], loss:0.6529\n",
      "epoch [75/100], loss:0.6508\n",
      "epoch [76/100], loss:0.6494\n",
      "epoch [77/100], loss:0.6475\n",
      "epoch [78/100], loss:0.6460\n",
      "epoch [79/100], loss:0.6449\n",
      "epoch [80/100], loss:0.6433\n",
      "epoch [81/100], loss:0.6414\n",
      "epoch [82/100], loss:0.6401\n",
      "epoch [83/100], loss:0.6387\n",
      "epoch [84/100], loss:0.6369\n",
      "epoch [85/100], loss:0.6354\n",
      "epoch [86/100], loss:0.6338\n",
      "epoch [87/100], loss:0.6321\n",
      "epoch [88/100], loss:0.6303\n",
      "epoch [89/100], loss:0.6280\n",
      "epoch [90/100], loss:0.6258\n",
      "epoch [91/100], loss:0.6240\n",
      "epoch [92/100], loss:0.6221\n",
      "epoch [93/100], loss:0.6208\n",
      "epoch [94/100], loss:0.6201\n",
      "epoch [95/100], loss:0.6184\n",
      "epoch [96/100], loss:0.6144\n",
      "epoch [97/100], loss:0.6129\n",
      "epoch [98/100], loss:0.6123\n",
      "epoch [99/100], loss:0.6094\n",
      "epoch [100/100], loss:0.6077\n"
     ]
    }
   ],
   "source": [
    "# entrenamiento\n",
    "for epoch in range(num_epochs):\n",
    "    output = model(X_train_t.float())\n",
    "    loss = distance(output, X_train_t.float())\n",
    "    optimizer.zero_grad()\n",
    "    loss.backward()\n",
    "    optimizer.step()\n",
    "    print('epoch [{}/{}], loss:{:.4f}'.format(epoch+1, num_epochs, loss.item()))"
   ]
  },
  {
   "cell_type": "code",
   "execution_count": 11,
   "metadata": {},
   "outputs": [
    {
     "name": "stdout",
     "output_type": "stream",
     "text": [
      "torch.Size([898, 1, 8, 8])\n",
      "torch.Size([898, 1, 8, 8])\n"
     ]
    }
   ],
   "source": [
    "x_transform = model(X_train_t.float())\n",
    "latent_space = model.encoder(X_train_t.float())\n",
    "print(x_transform.size())\n",
    "print(latent_space.size())"
   ]
  },
  {
   "cell_type": "code",
   "execution_count": 12,
   "metadata": {},
   "outputs": [
    {
     "data": {
      "image/png": "[encoded data removed]",
      "text/plain": [
       "<Figure size 1008x1008 with 15 Axes>"
      ]
     },
     "metadata": {
      "needs_background": "light"
     },
     "output_type": "display_data"
    }
   ],
   "source": [
    "# muestra los resultados de las cuatro capas de convolucion\n",
    "plt.figure(figsize=(14,14))\n",
    "offset = 16\n",
    "for i in range(5):\n",
    "    plt.subplot(5,5,i+1) #imagenes originales\n",
    "    plt.imshow(X_train_t[i+offset][0].detach().numpy())\n",
    "    plt.title(Y_train[i+offset])\n",
    "    \n",
    "    j=0 # las imagenes reconstruidas por el autoencoder\n",
    "    plt.subplot(5,5,(i+1)+5*(j+1))\n",
    "    plt.imshow(x_transform[i+offset][0].detach().numpy())\n",
    "    \n",
    "    j=1 # una de las capas de la representacion latente\n",
    "    plt.subplot(5,5,(i+1)+5*(j+1))\n",
    "    plt.imshow(latent_space[i+offset][0].detach().numpy())\n"
   ]
  },
  {
   "cell_type": "code",
   "execution_count": null,
   "metadata": {},
   "outputs": [],
   "source": []
  }
 ],
 "metadata": {
  "kernelspec": {
   "display_name": "Python 3",
   "language": "python",
   "name": "python3"
  },
  "language_info": {
   "codemirror_mode": {
    "name": "ipython",
    "version": 3
   },
   "file_extension": ".py",
   "mimetype": "text/x-python",
   "name": "python",
   "nbconvert_exporter": "python",
   "pygments_lexer": "ipython3",
   "version": "3.7.4"
  }
 },
 "nbformat": 4,
 "nbformat_minor": 2
}
