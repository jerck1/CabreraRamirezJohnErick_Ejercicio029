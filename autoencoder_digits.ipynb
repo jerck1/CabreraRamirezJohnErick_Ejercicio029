{
 "cells": [
  {
   "cell_type": "code",
   "execution_count": 2,
   "metadata": {},
   "outputs": [],
   "source": [
    "import numpy as np\n",
    "import matplotlib.pyplot as plt\n",
    "import torch\n",
    "import torchvision\n",
    "import torchvision.datasets\n",
    "import torchvision.models\n",
    "import torchvision.transforms"
   ]
  },
  {
   "cell_type": "code",
   "execution_count": 3,
   "metadata": {},
   "outputs": [],
   "source": [
    "import sklearn.datasets\n",
    "import sklearn.model_selection"
   ]
  },
  {
   "cell_type": "code",
   "execution_count": 4,
   "metadata": {},
   "outputs": [
    {
     "name": "stdout",
     "output_type": "stream",
     "text": [
      "(1797, 64) (1797,)\n",
      "[0 1 2 3 4 5 6 7 8 9]\n"
     ]
    }
   ],
   "source": [
    "numeros = sklearn.datasets.load_digits()\n",
    "imagenes = numeros['images']  # Hay 1797 digitos representados en imagenes 8x8\n",
    "n_imagenes = len(imagenes)\n",
    "X = imagenes.reshape((n_imagenes, -1)) # para volver a tener los datos como imagen basta hacer data.reshape((n_imagenes, 8, 8))\n",
    "#X=imagenes\n",
    "Y = numeros['target']\n",
    "print(np.shape(X), np.shape(Y))\n",
    "print(Y[:10])"
   ]
  },
  {
   "cell_type": "code",
   "execution_count": 5,
   "metadata": {},
   "outputs": [],
   "source": [
    "X_train, X_test, Y_train, Y_test = sklearn.model_selection.train_test_split(X, Y, test_size=0.5)"
   ]
  },
  {
   "cell_type": "code",
   "execution_count": 6,
   "metadata": {},
   "outputs": [],
   "source": [
    "scaler = sklearn.preprocessing.StandardScaler()\n",
    "X_train = scaler.fit_transform(X_train)\n",
    "X_test = (scaler.transform(X_test))\n",
    "#conversion to pytorch tensor and adding a 1 dimension with unsqueeze\n",
    "X_train_t = torch.from_numpy(X_train.reshape((len(X_train), 8, 8))).unsqueeze(1)\n",
    "X_test_t = torch.from_numpy(X_test.reshape((len(X_test), 8, 8))).unsqueeze(1)"
   ]
  },
  {
   "cell_type": "code",
   "execution_count": 7,
   "metadata": {},
   "outputs": [
    {
     "name": "stdout",
     "output_type": "stream",
     "text": [
      "torch.Size([1, 8, 8])\n",
      "torch.Size([898, 1, 8, 8])\n"
     ]
    }
   ],
   "source": [
    "print(np.shape(X_train_t[0]))\n",
    "print(X_train_t.size())"
   ]
  },
  {
   "cell_type": "code",
   "execution_count": 8,
   "metadata": {},
   "outputs": [
    {
     "name": "stdout",
     "output_type": "stream",
     "text": [
      "(898, 64)\n"
     ]
    },
    {
     "data": {
      "text/plain": [
       "<matplotlib.image.AxesImage at 0x7f34005c5410>"
      ]
     },
     "execution_count": 8,
     "metadata": {},
     "output_type": "execute_result"
    },
    {
     "data": {
      "image/png": "[encoded data removed]",
      "text/plain": [
       "<Figure size 432x288 with 1 Axes>"
      ]
     },
     "metadata": {
      "needs_background": "light"
     },
     "output_type": "display_data"
    }
   ],
   "source": [
    "print(np.shape(X_train))\n",
    "plt.imshow(X_train.reshape((898, 8, 8))[0])"
   ]
  },
  {
   "cell_type": "code",
   "execution_count": 15,
   "metadata": {},
   "outputs": [
    {
     "name": "stdout",
     "output_type": "stream",
     "text": [
      "Autoencoder(\n",
      "  (encoder): Sequential(\n",
      "    (0): Conv2d(1, 15, kernel_size=(8, 8), stride=(1, 1))\n",
      "    (1): ReLU(inplace=True)\n",
      "    (2): Conv2d(15, 1, kernel_size=(4, 4), stride=(1, 1), padding=(5, 5))\n",
      "    (3): ReLU(inplace=True)\n",
      "  )\n",
      "  (decoder): Sequential(\n",
      "    (0): ConvTranspose2d(1, 15, kernel_size=(4, 4), stride=(1, 1), padding=(5, 5))\n",
      "    (1): ReLU(inplace=True)\n",
      "    (2): ConvTranspose2d(15, 1, kernel_size=(8, 8), stride=(1, 1))\n",
      "    (3): ReLU(inplace=True)\n",
      "  )\n",
      ")\n"
     ]
    }
   ],
   "source": [
    "# define el autoencoder\n",
    "class Autoencoder(torch.nn.Module):\n",
    "    def __init__(self):\n",
    "        super(Autoencoder,self).__init__()\n",
    "        #input1, out:15\n",
    "        self.encoder = torch.nn.Sequential(\n",
    "            torch.nn.Conv2d(1, 15, kernel_size=8, stride=1),\n",
    "            torch.nn.ReLU(True),\n",
    "            # out:15, out7\n",
    "            torch.nn.Conv2d(15,1,kernel_size=4, stride=1,padding=5),\n",
    "            torch.nn.ReLU(True))\n",
    "        self.decoder = torch.nn.Sequential(             \n",
    "            torch.nn.ConvTranspose2d(1,15,kernel_size=4,padding=5),\n",
    "            torch.nn.ReLU(True),\n",
    "            torch.nn.ConvTranspose2d(15,1,kernel_size=8, stride=1),\n",
    "            torch.nn.ReLU(True))\n",
    "    def forward(self,x):\n",
    "        x = self.encoder(x)\n",
    "        x = self.decoder(x)\n",
    "        return x\n",
    "auto = Autoencoder()\n",
    "print(auto)"
   ]
  },
  {
   "cell_type": "code",
   "execution_count": 16,
   "metadata": {},
   "outputs": [],
   "source": [
    "# inicializa modelo, loss y optimizador\n",
    "num_epochs = 200\n",
    "model = Autoencoder()\n",
    "distance = torch.nn.MSELoss()\n",
    "optimizer = torch.optim.Adam(model.parameters(), lr=0.01, weight_decay=1E-3)\n",
    "loss_values = np.zeros(num_epochs)"
   ]
  },
  {
   "cell_type": "code",
   "execution_count": 17,
   "metadata": {
    "scrolled": false
   },
   "outputs": [
    {
     "name": "stdout",
     "output_type": "stream",
     "text": [
      "epoch [1/200], loss:0.9424\n",
      "epoch [2/200], loss:0.9406\n",
      "epoch [3/200], loss:0.9391\n",
      "epoch [4/200], loss:0.9379\n",
      "epoch [5/200], loss:0.9370\n",
      "epoch [6/200], loss:0.9366\n",
      "epoch [7/200], loss:0.9361\n",
      "epoch [8/200], loss:0.9353\n",
      "epoch [9/200], loss:0.9336\n",
      "epoch [10/200], loss:0.9310\n",
      "epoch [11/200], loss:0.9278\n",
      "epoch [12/200], loss:0.9234\n",
      "epoch [13/200], loss:0.9173\n",
      "epoch [14/200], loss:0.9095\n",
      "epoch [15/200], loss:0.9006\n",
      "epoch [16/200], loss:0.8922\n",
      "epoch [17/200], loss:0.8864\n",
      "epoch [18/200], loss:0.8834\n",
      "epoch [19/200], loss:0.8803\n",
      "epoch [20/200], loss:0.8743\n",
      "epoch [21/200], loss:0.8674\n",
      "epoch [22/200], loss:0.8618\n",
      "epoch [23/200], loss:0.8574\n",
      "epoch [24/200], loss:0.8528\n",
      "epoch [25/200], loss:0.8473\n",
      "epoch [26/200], loss:0.8416\n",
      "epoch [27/200], loss:0.8361\n",
      "epoch [28/200], loss:0.8308\n",
      "epoch [29/200], loss:0.8253\n",
      "epoch [30/200], loss:0.8197\n",
      "epoch [31/200], loss:0.8144\n",
      "epoch [32/200], loss:0.8097\n",
      "epoch [33/200], loss:0.8051\n",
      "epoch [34/200], loss:0.8004\n",
      "epoch [35/200], loss:0.7964\n",
      "epoch [36/200], loss:0.7926\n",
      "epoch [37/200], loss:0.7886\n",
      "epoch [38/200], loss:0.7845\n",
      "epoch [39/200], loss:0.7805\n",
      "epoch [40/200], loss:0.7761\n",
      "epoch [41/200], loss:0.7708\n",
      "epoch [42/200], loss:0.7657\n",
      "epoch [43/200], loss:0.7605\n",
      "epoch [44/200], loss:0.7550\n",
      "epoch [45/200], loss:0.7494\n",
      "epoch [46/200], loss:0.7443\n",
      "epoch [47/200], loss:0.7398\n",
      "epoch [48/200], loss:0.7361\n",
      "epoch [49/200], loss:0.7323\n",
      "epoch [50/200], loss:0.7273\n",
      "epoch [51/200], loss:0.7232\n",
      "epoch [52/200], loss:0.7201\n",
      "epoch [53/200], loss:0.7168\n",
      "epoch [54/200], loss:0.7132\n",
      "epoch [55/200], loss:0.7102\n",
      "epoch [56/200], loss:0.7069\n",
      "epoch [57/200], loss:0.7032\n",
      "epoch [58/200], loss:0.7004\n",
      "epoch [59/200], loss:0.6979\n",
      "epoch [60/200], loss:0.6943\n",
      "epoch [61/200], loss:0.6914\n",
      "epoch [62/200], loss:0.6888\n",
      "epoch [63/200], loss:0.6862\n",
      "epoch [64/200], loss:0.6835\n",
      "epoch [65/200], loss:0.6809\n",
      "epoch [66/200], loss:0.6779\n",
      "epoch [67/200], loss:0.6750\n",
      "epoch [68/200], loss:0.6725\n",
      "epoch [69/200], loss:0.6698\n",
      "epoch [70/200], loss:0.6667\n",
      "epoch [71/200], loss:0.6638\n",
      "epoch [72/200], loss:0.6606\n",
      "epoch [73/200], loss:0.6576\n",
      "epoch [74/200], loss:0.6546\n",
      "epoch [75/200], loss:0.6516\n",
      "epoch [76/200], loss:0.6489\n",
      "epoch [77/200], loss:0.6459\n",
      "epoch [78/200], loss:0.6430\n",
      "epoch [79/200], loss:0.6402\n",
      "epoch [80/200], loss:0.6371\n",
      "epoch [81/200], loss:0.6337\n",
      "epoch [82/200], loss:0.6311\n",
      "epoch [83/200], loss:0.6286\n",
      "epoch [84/200], loss:0.6258\n",
      "epoch [85/200], loss:0.6235\n",
      "epoch [86/200], loss:0.6215\n",
      "epoch [87/200], loss:0.6191\n",
      "epoch [88/200], loss:0.6164\n",
      "epoch [89/200], loss:0.6143\n",
      "epoch [90/200], loss:0.6119\n",
      "epoch [91/200], loss:0.6098\n",
      "epoch [92/200], loss:0.6078\n",
      "epoch [93/200], loss:0.6062\n",
      "epoch [94/200], loss:0.6046\n",
      "epoch [95/200], loss:0.6032\n",
      "epoch [96/200], loss:0.6017\n",
      "epoch [97/200], loss:0.6008\n",
      "epoch [98/200], loss:0.5999\n",
      "epoch [99/200], loss:0.5989\n",
      "epoch [100/200], loss:0.5978\n",
      "epoch [101/200], loss:0.5969\n",
      "epoch [102/200], loss:0.5955\n",
      "epoch [103/200], loss:0.5948\n",
      "epoch [104/200], loss:0.5937\n",
      "epoch [105/200], loss:0.5927\n",
      "epoch [106/200], loss:0.5916\n",
      "epoch [107/200], loss:0.5906\n",
      "epoch [108/200], loss:0.5898\n",
      "epoch [109/200], loss:0.5892\n",
      "epoch [110/200], loss:0.5884\n",
      "epoch [111/200], loss:0.5875\n",
      "epoch [112/200], loss:0.5866\n",
      "epoch [113/200], loss:0.5861\n",
      "epoch [114/200], loss:0.5853\n",
      "epoch [115/200], loss:0.5845\n",
      "epoch [116/200], loss:0.5840\n",
      "epoch [117/200], loss:0.5849\n",
      "epoch [118/200], loss:0.5827\n",
      "epoch [119/200], loss:0.5819\n",
      "epoch [120/200], loss:0.5813\n",
      "epoch [121/200], loss:0.5807\n",
      "epoch [122/200], loss:0.5802\n",
      "epoch [123/200], loss:0.5796\n",
      "epoch [124/200], loss:0.5791\n",
      "epoch [125/200], loss:0.5789\n",
      "epoch [126/200], loss:0.5782\n",
      "epoch [127/200], loss:0.5778\n",
      "epoch [128/200], loss:0.5768\n",
      "epoch [129/200], loss:0.5763\n",
      "epoch [130/200], loss:0.5763\n",
      "epoch [131/200], loss:0.5757\n",
      "epoch [132/200], loss:0.5745\n",
      "epoch [133/200], loss:0.5734\n",
      "epoch [134/200], loss:0.5728\n",
      "epoch [135/200], loss:0.5726\n",
      "epoch [136/200], loss:0.5717\n",
      "epoch [137/200], loss:0.5709\n",
      "epoch [138/200], loss:0.5701\n",
      "epoch [139/200], loss:0.5698\n",
      "epoch [140/200], loss:0.5692\n",
      "epoch [141/200], loss:0.5684\n",
      "epoch [142/200], loss:0.5677\n",
      "epoch [143/200], loss:0.5671\n",
      "epoch [144/200], loss:0.5665\n",
      "epoch [145/200], loss:0.5660\n",
      "epoch [146/200], loss:0.5654\n",
      "epoch [147/200], loss:0.5649\n",
      "epoch [148/200], loss:0.5643\n",
      "epoch [149/200], loss:0.5640\n",
      "epoch [150/200], loss:0.5636\n",
      "epoch [151/200], loss:0.5629\n",
      "epoch [152/200], loss:0.5625\n",
      "epoch [153/200], loss:0.5620\n",
      "epoch [154/200], loss:0.5617\n",
      "epoch [155/200], loss:0.5613\n",
      "epoch [156/200], loss:0.5608\n",
      "epoch [157/200], loss:0.5602\n",
      "epoch [158/200], loss:0.5594\n",
      "epoch [159/200], loss:0.5589\n",
      "epoch [160/200], loss:0.5583\n",
      "epoch [161/200], loss:0.5577\n",
      "epoch [162/200], loss:0.5572\n",
      "epoch [163/200], loss:0.5567\n",
      "epoch [164/200], loss:0.5561\n",
      "epoch [165/200], loss:0.5558\n",
      "epoch [166/200], loss:0.5553\n",
      "epoch [167/200], loss:0.5549\n",
      "epoch [168/200], loss:0.5545\n",
      "epoch [169/200], loss:0.5540\n",
      "epoch [170/200], loss:0.5534\n",
      "epoch [171/200], loss:0.5532\n",
      "epoch [172/200], loss:0.5527\n",
      "epoch [173/200], loss:0.5523\n",
      "epoch [174/200], loss:0.5518\n",
      "epoch [175/200], loss:0.5515\n",
      "epoch [176/200], loss:0.5506\n",
      "epoch [177/200], loss:0.5504\n",
      "epoch [178/200], loss:0.5496\n",
      "epoch [179/200], loss:0.5497\n",
      "epoch [180/200], loss:0.5490\n",
      "epoch [181/200], loss:0.5488\n",
      "epoch [182/200], loss:0.5483\n",
      "epoch [183/200], loss:0.5475\n",
      "epoch [184/200], loss:0.5466\n",
      "epoch [185/200], loss:0.5461\n",
      "epoch [186/200], loss:0.5456\n",
      "epoch [187/200], loss:0.5455\n",
      "epoch [188/200], loss:0.5443\n",
      "epoch [189/200], loss:0.5436\n",
      "epoch [190/200], loss:0.5432\n",
      "epoch [191/200], loss:0.5425\n",
      "epoch [192/200], loss:0.5426\n",
      "epoch [193/200], loss:0.5420\n",
      "epoch [194/200], loss:0.5407\n",
      "epoch [195/200], loss:0.5399\n",
      "epoch [196/200], loss:0.5397\n",
      "epoch [197/200], loss:0.5398\n",
      "epoch [198/200], loss:0.5386\n",
      "epoch [199/200], loss:0.5382\n",
      "epoch [200/200], loss:0.5372\n"
     ]
    }
   ],
   "source": [
    "# entrenamiento\n",
    "for epoch in range(num_epochs):\n",
    "    output = model(X_train_t.float())\n",
    "    loss = distance(output, X_train_t.float())\n",
    "    optimizer.zero_grad()\n",
    "    loss.backward()\n",
    "    optimizer.step()\n",
    "    loss_values[epoch] = loss.item()\n",
    "    print('epoch [{}/{}], loss:{:.4f}'.format(epoch+1, num_epochs, loss.item()))"
   ]
  },
  {
   "cell_type": "code",
   "execution_count": 18,
   "metadata": {},
   "outputs": [
    {
     "data": {
      "text/plain": [
       "<matplotlib.collections.PathCollection at 0x7f33dfb98310>"
      ]
     },
     "execution_count": 18,
     "metadata": {},
     "output_type": "execute_result"
    },
    {
     "data": {
      "image/png": "[encoded data removed]",
      "text/plain": [
       "<Figure size 432x288 with 1 Axes>"
      ]
     },
     "metadata": {
      "needs_background": "light"
     },
     "output_type": "display_data"
    }
   ],
   "source": [
    "plt.scatter(np.arange(1,num_epochs+1),loss_values)"
   ]
  },
  {
   "cell_type": "code",
   "execution_count": 19,
   "metadata": {},
   "outputs": [
    {
     "name": "stdout",
     "output_type": "stream",
     "text": [
      "torch.Size([898, 1, 8, 8])\n",
      "torch.Size([898, 1, 8, 8])\n"
     ]
    }
   ],
   "source": [
    "x_transform = model(X_train_t.float())\n",
    "latent_space = model.encoder(X_train_t.float())\n",
    "print(x_transform.size())\n",
    "print(latent_space.size())"
   ]
  },
  {
   "cell_type": "code",
   "execution_count": 20,
   "metadata": {},
   "outputs": [
    {
     "data": {
      "image/png": "[encoded data removed]",
      "text/plain": [
       "<Figure size 1008x1008 with 15 Axes>"
      ]
     },
     "metadata": {
      "needs_background": "light"
     },
     "output_type": "display_data"
    }
   ],
   "source": [
    "# muestra los resultados de las cuatro capas de convolucion\n",
    "plt.figure(figsize=(14,14))\n",
    "offset = 16\n",
    "for i in range(5):\n",
    "    plt.subplot(5,5,i+1) #imagenes originales\n",
    "    plt.imshow(X_train_t[i+offset][0].detach().numpy())\n",
    "    plt.title(Y_train[i+offset])\n",
    "    \n",
    "    j=0 # las imagenes reconstruidas por el autoencoder\n",
    "    plt.subplot(5,5,(i+1)+5*(j+1))\n",
    "    plt.imshow(x_transform[i+offset][0].detach().numpy())\n",
    "    \n",
    "    j=1 # una de las capas de la representacion latente\n",
    "    plt.subplot(5,5,(i+1)+5*(j+1))\n",
    "    plt.imshow(latent_space[i+offset][0].detach().numpy())\n"
   ]
  },
  {
   "cell_type": "code",
   "execution_count": null,
   "metadata": {},
   "outputs": [],
   "source": []
  }
 ],
 "metadata": {
  "kernelspec": {
   "display_name": "Python 3",
   "language": "python",
   "name": "python3"
  },
  "language_info": {
   "codemirror_mode": {
    "name": "ipython",
    "version": 3
   },
   "file_extension": ".py",
   "mimetype": "text/x-python",
   "name": "python",
   "nbconvert_exporter": "python",
   "pygments_lexer": "ipython3",
   "version": "3.7.4"
  }
 },
 "nbformat": 4,
 "nbformat_minor": 2
}
