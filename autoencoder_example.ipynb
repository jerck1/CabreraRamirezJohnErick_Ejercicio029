{
 "cells": [
  {
   "cell_type": "code",
   "execution_count": 1,
   "metadata": {},
   "outputs": [],
   "source": [
    "import numpy as np\n",
    "import matplotlib.pyplot as plt\n",
    "import torch\n",
    "import torchvision\n",
    "import torchvision.datasets\n",
    "import torchvision.models\n",
    "import torchvision.transforms"
   ]
  },
  {
   "cell_type": "code",
   "execution_count": 2,
   "metadata": {},
   "outputs": [],
   "source": [
    "# baja y lee los datos\n",
    "training = torchvision.datasets.FashionMNIST(root=\"./\", train=True, download=True)\n",
    "train_loader = torch.utils.data.DataLoader(training,shuffle=True)\n",
    "\n",
    "testing = torchvision.datasets.FashionMNIST(root=\"./\", train=False, download=True, \n",
    "                                            transform=torchvision.transforms.Normalize((0), (1.0)))\n",
    "testing_loader = torch.utils.data.DataLoader(testing, shuffle=True)"
   ]
  },
  {
   "cell_type": "code",
   "execution_count": 3,
   "metadata": {},
   "outputs": [
    {
     "name": "stdout",
     "output_type": "stream",
     "text": [
      "torch.Size([60000, 28, 28])\n",
      "['T-shirt/top', 'Trouser', 'Pullover', 'Dress', 'Coat', 'Sandal', 'Shirt', 'Sneaker', 'Bag', 'Ankle boot']\n"
     ]
    },
    {
     "data": {
      "image/png": "[encoded data removed]",
      "text/plain": [
       "<Figure size 1008x360 with 5 Axes>"
      ]
     },
     "metadata": {
      "needs_background": "light"
     },
     "output_type": "display_data"
    }
   ],
   "source": [
    "# muestra algunos ejemplos\n",
    "print(train_loader.dataset.data.size())\n",
    "print(train_loader.dataset.classes)\n",
    "n_items = train_loader.dataset.data.size()[0]\n",
    "random_items = np.random.choice(np.arange(n_items), 5)\n",
    "\n",
    "plt.figure(figsize=(14,5))\n",
    "for i in range(5):\n",
    "    plt.subplot(1,5,i+1)\n",
    "    item  = random_items[i]\n",
    "    plt.imshow(train_loader.dataset.data[item])\n",
    "    plt.title(train_loader.dataset.classes[train_loader.dataset.targets[item]] )"
   ]
  },
  {
   "cell_type": "code",
   "execution_count": 4,
   "metadata": {},
   "outputs": [],
   "source": [
    "# Selecciona y normaliza 600 para entrenar\n",
    "train  = train_loader.dataset.data[:600].float()\n",
    "target = train_loader.dataset.targets[:600].float()\n",
    "\n",
    "mean = train.mean(dim=0)\n",
    "std = train.std(dim=0)\n",
    "std[std==0]=1.0\n",
    "\n",
    "for i in range(len(train)):\n",
    "    train[i] = (train[i]-mean)/std\n",
    "np.shape(train)\n",
    "x_train = train.unsqueeze(1)\n"
   ]
  },
  {
   "cell_type": "code",
   "execution_count": 5,
   "metadata": {},
   "outputs": [],
   "source": [
    "# define el autoencoder\n",
    "class Autoencoder(torch.nn.Module):\n",
    "    def __init__(self):\n",
    "        super(Autoencoder,self).__init__()\n",
    "        #input1, out:15\n",
    "        self.encoder = torch.nn.Sequential(\n",
    "            torch.nn.Conv2d(1, 15, kernel_size=10, stride=3),\n",
    "            torch.nn.ReLU(True),\n",
    "            # out:15, out7\n",
    "            torch.nn.Conv2d(15,7,kernel_size=4),\n",
    "            torch.nn.ReLU(True))\n",
    "        self.decoder = torch.nn.Sequential(             \n",
    "            torch.nn.ConvTranspose2d(7,15,kernel_size=4),\n",
    "            torch.nn.ReLU(True),\n",
    "            torch.nn.ConvTranspose2d(15,1,kernel_size=10, stride=3),\n",
    "            torch.nn.ReLU(True))\n",
    "    def forward(self,x):\n",
    "        x = self.encoder(x)\n",
    "        x = self.decoder(x)\n",
    "        return x"
   ]
  },
  {
   "cell_type": "code",
   "execution_count": 6,
   "metadata": {},
   "outputs": [],
   "source": [
    "# inicializa modelo, loss y optimizador\n",
    "num_epochs = 100\n",
    "model = Autoencoder()\n",
    "#mean square error\n",
    "distance = torch.nn.MSELoss()\n",
    "#Adam: a method for stochastic optimization\n",
    "optimizer = torch.optim.Adam(model.parameters(), lr=0.01, weight_decay=1E-3)"
   ]
  },
  {
   "cell_type": "code",
   "execution_count": 10,
   "metadata": {},
   "outputs": [
    {
     "name": "stdout",
     "output_type": "stream",
     "text": [
      "epoch [1/100], loss:0.9932\n",
      "epoch [2/100], loss:0.9932\n",
      "epoch [3/100], loss:0.9932\n",
      "epoch [4/100], loss:0.9932\n",
      "epoch [5/100], loss:0.9932\n",
      "epoch [6/100], loss:0.9932\n",
      "epoch [7/100], loss:0.9932\n",
      "epoch [8/100], loss:0.9932\n",
      "epoch [9/100], loss:0.9932\n",
      "epoch [10/100], loss:0.9932\n",
      "epoch [11/100], loss:0.9932\n",
      "epoch [12/100], loss:0.9932\n",
      "epoch [13/100], loss:0.9932\n",
      "epoch [14/100], loss:0.9932\n",
      "epoch [15/100], loss:0.9932\n",
      "epoch [16/100], loss:0.9932\n",
      "epoch [17/100], loss:0.9932\n",
      "epoch [18/100], loss:0.9932\n",
      "epoch [19/100], loss:0.9932\n",
      "epoch [20/100], loss:0.9932\n",
      "epoch [21/100], loss:0.9932\n",
      "epoch [22/100], loss:0.9932\n",
      "epoch [23/100], loss:0.9932\n",
      "epoch [24/100], loss:0.9932\n",
      "epoch [25/100], loss:0.9932\n",
      "epoch [26/100], loss:0.9932\n",
      "epoch [27/100], loss:0.9932\n",
      "epoch [28/100], loss:0.9932\n",
      "epoch [29/100], loss:0.9932\n",
      "epoch [30/100], loss:0.9932\n",
      "epoch [31/100], loss:0.9932\n",
      "epoch [32/100], loss:0.9932\n",
      "epoch [33/100], loss:0.9932\n",
      "epoch [34/100], loss:0.9932\n",
      "epoch [35/100], loss:0.9932\n",
      "epoch [36/100], loss:0.9932\n",
      "epoch [37/100], loss:0.9932\n",
      "epoch [38/100], loss:0.9932\n",
      "epoch [39/100], loss:0.9932\n",
      "epoch [40/100], loss:0.9932\n",
      "epoch [41/100], loss:0.9932\n",
      "epoch [42/100], loss:0.9932\n",
      "epoch [43/100], loss:0.9932\n",
      "epoch [44/100], loss:0.9932\n",
      "epoch [45/100], loss:0.9932\n",
      "epoch [46/100], loss:0.9932\n",
      "epoch [47/100], loss:0.9932\n",
      "epoch [48/100], loss:0.9932\n",
      "epoch [49/100], loss:0.9932\n",
      "epoch [50/100], loss:0.9932\n",
      "epoch [51/100], loss:0.9932\n",
      "epoch [52/100], loss:0.9932\n",
      "epoch [53/100], loss:0.9932\n",
      "epoch [54/100], loss:0.9932\n",
      "epoch [55/100], loss:0.9932\n",
      "epoch [56/100], loss:0.9932\n",
      "epoch [57/100], loss:0.9932\n",
      "epoch [58/100], loss:0.9932\n",
      "epoch [59/100], loss:0.9932\n",
      "epoch [60/100], loss:0.9932\n",
      "epoch [61/100], loss:0.9932\n",
      "epoch [62/100], loss:0.9932\n",
      "epoch [63/100], loss:0.9932\n",
      "epoch [64/100], loss:0.9932\n",
      "epoch [65/100], loss:0.9932\n",
      "epoch [66/100], loss:0.9932\n",
      "epoch [67/100], loss:0.9932\n",
      "epoch [68/100], loss:0.9932\n",
      "epoch [69/100], loss:0.9932\n",
      "epoch [70/100], loss:0.9932\n",
      "epoch [71/100], loss:0.9932\n",
      "epoch [72/100], loss:0.9932\n",
      "epoch [73/100], loss:0.9932\n",
      "epoch [74/100], loss:0.9932\n",
      "epoch [75/100], loss:0.9932\n",
      "epoch [76/100], loss:0.9932\n",
      "epoch [77/100], loss:0.9932\n",
      "epoch [78/100], loss:0.9932\n",
      "epoch [79/100], loss:0.9932\n",
      "epoch [80/100], loss:0.9932\n",
      "epoch [81/100], loss:0.9932\n",
      "epoch [82/100], loss:0.9932\n",
      "epoch [83/100], loss:0.9932\n",
      "epoch [84/100], loss:0.9932\n",
      "epoch [85/100], loss:0.9932\n",
      "epoch [86/100], loss:0.9932\n",
      "epoch [87/100], loss:0.9932\n",
      "epoch [88/100], loss:0.9932\n",
      "epoch [89/100], loss:0.9932\n",
      "epoch [90/100], loss:0.9932\n",
      "epoch [91/100], loss:0.9932\n",
      "epoch [92/100], loss:0.9932\n",
      "epoch [93/100], loss:0.9932\n",
      "epoch [94/100], loss:0.9932\n",
      "epoch [95/100], loss:0.9932\n",
      "epoch [96/100], loss:0.9932\n",
      "epoch [97/100], loss:0.9932\n",
      "epoch [98/100], loss:0.9932\n",
      "epoch [99/100], loss:0.9932\n",
      "epoch [100/100], loss:0.9932\n"
     ]
    }
   ],
   "source": [
    "# entrenamiento\n",
    "for epoch in range(num_epochs):\n",
    "    output = model(x_train)\n",
    "    loss = distance(output, x_train)\n",
    "    optimizer.zero_grad()\n",
    "    loss.backward()\n",
    "    optimizer.step()\n",
    "    print('epoch [{}/{}], loss:{:.4f}'.format(epoch+1, num_epochs, loss.item()))"
   ]
  },
  {
   "cell_type": "code",
   "execution_count": 11,
   "metadata": {},
   "outputs": [
    {
     "name": "stdout",
     "output_type": "stream",
     "text": [
      "torch.Size([600, 1, 28, 28])\n",
      "torch.Size([600, 7, 4, 4])\n"
     ]
    }
   ],
   "source": [
    "x_transform = model(x_train)\n",
    "latent_space = model.encoder(x_train)\n",
    "print(x_transform.size())\n",
    "print(latent_space.size())"
   ]
  },
  {
   "cell_type": "code",
   "execution_count": 12,
   "metadata": {},
   "outputs": [
    {
     "name": "stdout",
     "output_type": "stream",
     "text": [
      "(4, 4)\n",
      "(4, 4)\n",
      "(4, 4)\n",
      "(4, 4)\n",
      "(4, 4)\n"
     ]
    },
    {
     "data": {
      "image/png": "[encoded data removed]",
      "text/plain": [
       "<Figure size 1008x1008 with 15 Axes>"
      ]
     },
     "metadata": {
      "needs_background": "light"
     },
     "output_type": "display_data"
    }
   ],
   "source": [
    "# muestra los resultados de las cuatro capas de convolucion\n",
    "plt.figure(figsize=(14,14))\n",
    "offset = 16\n",
    "for i in range(5):\n",
    "    plt.subplot(5,5,i+1) #imagenes originales\n",
    "    plt.imshow(x_train[i+offset][0].detach().numpy())\n",
    "    plt.title(train_loader.dataset.classes[train_loader.dataset.targets[i+offset]] )\n",
    "    \n",
    "    j=0 # las imagenes reconstruidas por el autoencoder\n",
    "    plt.subplot(5,5,(i+1)+5*(j+1))\n",
    "    plt.imshow(x_transform[i+offset][0].detach().numpy())\n",
    "    \n",
    "    j=1 # una de las capas de la representacion latente\n",
    "    plt.subplot(5,5,(i+1)+5*(j+1))\n",
    "    plt.imshow(latent_space[i+offset][2].detach().numpy())\n",
    "    print(np.shape(latent_space[i+offset][2].detach().numpy()))\n"
   ]
  },
  {
   "cell_type": "code",
   "execution_count": null,
   "metadata": {},
   "outputs": [],
   "source": []
  }
 ],
 "metadata": {
  "kernelspec": {
   "display_name": "Python 3",
   "language": "python",
   "name": "python3"
  },
  "language_info": {
   "codemirror_mode": {
    "name": "ipython",
    "version": 3
   },
   "file_extension": ".py",
   "mimetype": "text/x-python",
   "name": "python",
   "nbconvert_exporter": "python",
   "pygments_lexer": "ipython3",
   "version": "3.7.4"
  }
 },
 "nbformat": 4,
 "nbformat_minor": 4
}
